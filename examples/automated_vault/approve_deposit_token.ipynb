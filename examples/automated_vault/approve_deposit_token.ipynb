{
 "cells": [
  {
   "cell_type": "code",
   "execution_count": 1,
   "metadata": {},
   "outputs": [],
   "source": [
    "\"\"\" IGNORE CELL - Dev Environment setup (Not necessary if you've installed via pip) \"\"\"\n",
    "from os.path import join, dirname, abspath\n",
    "import sys\n",
    "\n",
    "module_path = abspath(join('../..'))\n",
    "if module_path not in sys.path:\n",
    "    sys.path.append(module_path)"
   ]
  },
  {
   "cell_type": "code",
   "execution_count": 2,
   "metadata": {},
   "outputs": [],
   "source": [
    "from dotenv import load_dotenv\n",
    "from os import getenv\n",
    "\n",
    "from alpaca_finance.automated_vault import AutomatedVaultPosition"
   ]
  },
  {
   "cell_type": "code",
   "execution_count": 3,
   "metadata": {},
   "outputs": [],
   "source": [
    "# Variables:\n",
    "load_dotenv()\n",
    "\n",
    "PUBKEY = getenv('PUBLIC_WALLET_ADDRESS', \"<or_hardcode_here>\")\n",
    "PRIVKEY = getenv('PRIVATE_WALLET_KEY', \"<or_hardcode_here>\")\n",
    "assert PUBKEY is not None and PRIVKEY is not None, \"Public and private wallet key required to sign withdraw txn\"\n",
    "\n",
    "POSITION_KEY = \"L3x-BUSDBTCB-PCS2\"  # <-- Replace with your own Automated Vault position key (BTCB Savings (3x) in this case)"
   ]
  },
  {
   "cell_type": "code",
   "execution_count": 5,
   "metadata": {},
   "outputs": [
    {
     "data": {
      "text/plain": [
       "('Long 3x BUSD-BTCB PCS2', 'l3x-busdbtcb-pcs2', 'BUSD')"
      ]
     },
     "execution_count": 5,
     "metadata": {},
     "output_type": "execute_result"
    }
   ],
   "source": [
    "# Create a automated vault position instance:\n",
    "position = AutomatedVaultPosition(position_key=POSITION_KEY, owner_wallet_address=PUBKEY, owner_wallet_key=PRIVKEY)\n",
    "\n",
    "position.name, position.key, position.asset_token.symbol()"
   ]
  },
  {
   "cell_type": "markdown",
   "metadata": {},
   "source": [
    "## Approve BUSD (asset token) for deposit into vault:"
   ]
  },
  {
   "cell_type": "code",
   "execution_count": 6,
   "metadata": {},
   "outputs": [
    {
     "data": {
      "text/plain": [
       "TransactionReceipt(transactionHash=HexBytes('0x2f5cc88ee899f5f228f3404fc7f1ec40031f48ae3ff819b04f8064b17cc09fc7'), blockHash=HexBytes('0x245bb76a4598519c4f0be47fac9f81341066fd6e4861b59690ed08211cd50fa0'), blockNumber=19786948, contractAddress=None, cumulativeGasUsed=4838197, gasSpendUSD=0.04516627756973671, fromAddress='0xC9E6e248928aC18eD6b103653cBcF66d23B743C6', toAddress='0xe9e7CEA3DedcA5984780Bafc599bD69ADd087D56', status=1, transactionIndex=46, type='0x0', effectiveGasPrice=None)"
      ]
     },
     "execution_count": 6,
     "metadata": {},
     "output_type": "execute_result"
    }
   ],
   "source": [
    "txn_recept = position.do_approve_deposit_token(position.asset_token)\n",
    "txn_recept"
   ]
  },
  {
   "cell_type": "code",
   "execution_count": 7,
   "metadata": {},
   "outputs": [
    {
     "data": {
      "text/plain": [
       "'Gas Spend USD: $0.04516627756973671'"
      ]
     },
     "execution_count": 7,
     "metadata": {},
     "output_type": "execute_result"
    }
   ],
   "source": [
    "f\"Gas Spend USD: ${txn_recept.gasSpendUSD}\""
   ]
  }
 ],
 "metadata": {
  "kernelspec": {
   "display_name": "Python 3.9.7 64-bit",
   "language": "python",
   "name": "python3"
  },
  "language_info": {
   "codemirror_mode": {
    "name": "ipython",
    "version": 3
   },
   "file_extension": ".py",
   "mimetype": "text/x-python",
   "name": "python",
   "nbconvert_exporter": "python",
   "pygments_lexer": "ipython3",
   "version": "3.9.7"
  },
  "orig_nbformat": 4,
  "vscode": {
   "interpreter": {
    "hash": "aee8b7b246df8f9039afb4144a1f6fd8d2ca17a180786b69acc140d282b71a49"
   }
  }
 },
 "nbformat": 4,
 "nbformat_minor": 2
}
