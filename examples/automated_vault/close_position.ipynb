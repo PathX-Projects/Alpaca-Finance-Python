{
 "cells": [
  {
   "cell_type": "code",
   "execution_count": 1,
   "metadata": {},
   "outputs": [],
   "source": [
    "\"\"\" IGNORE CELL - Dev Environment setup not necessary if you've installed via pip \"\"\"\n",
    "from os.path import join, dirname, abspath\n",
    "import sys\n",
    "\n",
    "module_path = abspath(join('../..'))\n",
    "if module_path not in sys.path:\n",
    "    sys.path.append(module_path)"
   ]
  },
  {
   "cell_type": "code",
   "execution_count": 2,
   "metadata": {},
   "outputs": [],
   "source": [
    "from dotenv import load_dotenv\n",
    "from os import getenv\n",
    "\n",
    "from alpaca_finance.automated_vault import AutomatedVaultPosition"
   ]
  },
  {
   "cell_type": "code",
   "execution_count": 3,
   "metadata": {},
   "outputs": [],
   "source": [
    "# Variables:\n",
    "load_dotenv()\n",
    "\n",
    "PUBKEY = getenv('PUBLIC_WALLET_ADDRESS', \"<or_hardcode_here>\")\n",
    "PRIVKEY = getenv('PRIVATE_WALLET_KEY', \"<or_hardcode_here>\")\n",
    "assert PUBKEY is not None and PRIVKEY is not None, \"Public and private wallet key required to sign withdraw txn\"\n",
    "\n",
    "POSITION_KEY = \"L3x-BUSDBTCB-PCS2\"  # <-- Replace with your own Automated Vault position key (BTCB Savings (3x) in this case)"
   ]
  },
  {
   "cell_type": "code",
   "execution_count": 5,
   "metadata": {},
   "outputs": [
    {
     "data": {
      "text/plain": [
       "('Long 3x BUSD-BTCB PCS2', 'l3x-busdbtcb-pcs2', 6.599732233561553)"
      ]
     },
     "execution_count": 5,
     "metadata": {},
     "output_type": "execute_result"
    }
   ],
   "source": [
    "# Create a automated vault position instance:\n",
    "position = AutomatedVaultPosition(position_key=POSITION_KEY, owner_wallet_address=PUBKEY, owner_wallet_key=PRIVKEY)\n",
    "\n",
    "position.name, position.key, position.shares()[1]"
   ]
  },
  {
   "cell_type": "markdown",
   "metadata": {},
   "source": [
    "### Close the Position (Automatically withdraws all shares):\n",
    "\n",
    "- Using the \"convert all\" strategy to withdraw tokens"
   ]
  },
  {
   "cell_type": "code",
   "execution_count": 6,
   "metadata": {},
   "outputs": [
    {
     "data": {
      "text/plain": [
       "TransactionReceipt(transactionHash=HexBytes('0xdc0ff00a1a4fad7e8c3203a37e781cea9442137a3ee36525d4f5f127177c2cea'), blockHash=HexBytes('0xcaed86f7973ab7779cf10a183f96bc674f95ef0977f515326734f51e1f148e92'), blockNumber=19785694, contractAddress=None, cumulativeGasUsed=8735214, gasSpendUSD=6.967646659388393, fromAddress='0xC9E6e248928aC18eD6b103653cBcF66d23B743C6', toAddress='0x0256E784f73391797f80a9902c0fD05a718a812a', status=1, transactionIndex=33, type='0x0', effectiveGasPrice=None)"
      ]
     },
     "execution_count": 6,
     "metadata": {},
     "output_type": "execute_result"
    }
   ],
   "source": [
    "txn_receipt = position.do_close(pct_stable=1.0, strategy=\"convert all\")\n",
    "txn_receipt"
   ]
  },
  {
   "cell_type": "code",
   "execution_count": 7,
   "metadata": {},
   "outputs": [
    {
     "data": {
      "text/plain": [
       "'Gas Spend in USD: $6.967646659388393'"
      ]
     },
     "execution_count": 7,
     "metadata": {},
     "output_type": "execute_result"
    }
   ],
   "source": [
    "f\"Gas Spend in USD: ${txn_receipt.gasSpendUSD}\""
   ]
  },
  {
   "cell_type": "code",
   "execution_count": 8,
   "metadata": {},
   "outputs": [
    {
     "data": {
      "text/plain": [
       "'New Shares Amount: 0.0'"
      ]
     },
     "execution_count": 8,
     "metadata": {},
     "output_type": "execute_result"
    }
   ],
   "source": [
    "f\"New Shares Amount: {position.shares()[1]}\""
   ]
  }
 ],
 "metadata": {
  "kernelspec": {
   "display_name": "Python 3.9.7 64-bit",
   "language": "python",
   "name": "python3"
  },
  "language_info": {
   "codemirror_mode": {
    "name": "ipython",
    "version": 3
   },
   "file_extension": ".py",
   "mimetype": "text/x-python",
   "name": "python",
   "nbconvert_exporter": "python",
   "pygments_lexer": "ipython3",
   "version": "3.9.7"
  },
  "orig_nbformat": 4,
  "vscode": {
   "interpreter": {
    "hash": "aee8b7b246df8f9039afb4144a1f6fd8d2ca17a180786b69acc140d282b71a49"
   }
  }
 },
 "nbformat": 4,
 "nbformat_minor": 2
}
