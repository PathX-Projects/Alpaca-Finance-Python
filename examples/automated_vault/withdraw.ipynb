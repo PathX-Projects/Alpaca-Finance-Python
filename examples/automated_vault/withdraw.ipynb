{
 "cells": [
  {
   "cell_type": "code",
   "execution_count": 20,
   "metadata": {},
   "outputs": [],
   "source": [
    "\"\"\" IGNORE CELL - Dev Environment setup (Not necessary if you've installed via pip) \"\"\"\n",
    "from os.path import join, dirname, abspath\n",
    "from os import getenv, getcwd\n",
    "import sys\n",
    "\n",
    "module_path = abspath(join('../..'))\n",
    "if module_path not in sys.path:\n",
    "    sys.path.append(module_path)"
   ]
  },
  {
   "cell_type": "code",
   "execution_count": 2,
   "metadata": {},
   "outputs": [],
   "source": [
    "from dotenv import load_dotenv\n",
    "from alpaca_finance.automated_vault import AutomatedVaultPosition"
   ]
  },
  {
   "cell_type": "code",
   "execution_count": 3,
   "metadata": {},
   "outputs": [],
   "source": [
    "# Variables:\n",
    "load_dotenv()\n",
    "\n",
    "PUBKEY = getenv('PUBLIC_WALLET_ADDRESS', \"<or_hardcode_here>\")\n",
    "PRIVKEY = getenv('PRIVATE_WALLET_KEY', \"<or_hardcode_here>\")\n",
    "assert PUBKEY is not None and PRIVKEY is not None, \"Public and private wallet key required to sign withdraw txn\"\n",
    "\n",
    "POSITION_KEY = \"L3x-BUSDBTCB-PCS2\"  # <-- Replace with your own Automated Vault position key (BTCB Savings (3x) in this case)"
   ]
  },
  {
   "cell_type": "code",
   "execution_count": 4,
   "metadata": {},
   "outputs": [
    {
     "data": {
      "text/plain": [
       "('Long 3x BUSD-BTCB PCS2', 'l3x-busdbtcb-pcs2', 10.599732233561554)"
      ]
     },
     "execution_count": 4,
     "metadata": {},
     "output_type": "execute_result"
    }
   ],
   "source": [
    "# Create a automated vault position instance:\n",
    "position = AutomatedVaultPosition(position_key=POSITION_KEY, owner_wallet_address=PUBKEY, owner_wallet_key=PRIVKEY)\n",
    "\n",
    "position.name, position.key, position.shares()[1]"
   ]
  },
  {
   "cell_type": "markdown",
   "metadata": {},
   "source": [
    "### Withdraw 2 Shares from the Position (Using the 'Minimize Trading' strategy):"
   ]
  },
  {
   "cell_type": "code",
   "execution_count": 6,
   "metadata": {},
   "outputs": [
    {
     "data": {
      "text/plain": [
       "2000000000000000000"
      ]
     },
     "execution_count": 6,
     "metadata": {},
     "output_type": "execute_result"
    }
   ],
   "source": [
    "# Must supply the shares in integer value:\n",
    "shares = position.to_wei(2, position.bep20_vault_token.decimals())\n",
    "shares"
   ]
  },
  {
   "cell_type": "code",
   "execution_count": 8,
   "metadata": {},
   "outputs": [
    {
     "name": "stdout",
     "output_type": "stream",
     "text": [
      "{'value': 0, 'gas': 4889680, 'from': '0xC9E6e248928aC18eD6b103653cBcF66d23B743C6', 'chainId': 56, 'gasPrice': 5000000000, 'nonce': 17, 'to': '0xA1679223b7585725aFb425a6F59737a05e085C40', 'data': '0xfe55892d0000000000000000000000000000000000000000000000001bc16d674ec80000000000000000000000000000000000000000000000000000000000000000000000000000000000000000000000000000000000000000000000000000000000000000000000000000000000000000000000000000000000000000000000000080000000000000000000000000000000000000000000000000000000000000004000000000000000000000000000000000000000000000000000000000000000190000000000000000000000000000000000000000000000000000000000000001'}\n"
     ]
    },
    {
     "data": {
      "text/plain": [
       "TransactionReceipt(transactionHash=HexBytes('0xc23e2ed4fe003a64b249ce6ea9e38108df7715d9011e2629bbb59513056623f5'), blockHash=HexBytes('0x68e1c1eb00fe978026abf1d84995ef7b94906cbee31680630f4d4fa5c0d813d8'), blockNumber=19784660, contractAddress=None, cumulativeGasUsed=12123140, gasSpendUSD=6.434590946335803, fromAddress='0xC9E6e248928aC18eD6b103653cBcF66d23B743C6', toAddress='0xA1679223b7585725aFb425a6F59737a05e085C40', status=1, transactionIndex=51, type='0x0', effectiveGasPrice=None)"
      ]
     },
     "execution_count": 8,
     "metadata": {},
     "output_type": "execute_result"
    }
   ],
   "source": [
    "# We don't need to specify a strategy here, since the default strategy is \"Minimize Trading\":\n",
    "txn_receipt = position.do_withdraw(shares)\n",
    "txn_receipt"
   ]
  },
  {
   "cell_type": "code",
   "execution_count": 11,
   "metadata": {},
   "outputs": [
    {
     "data": {
      "text/plain": [
       "'Gas Spend USD: $6.434590946335803'"
      ]
     },
     "execution_count": 11,
     "metadata": {},
     "output_type": "execute_result"
    }
   ],
   "source": [
    "f\"Gas Spend USD: ${txn_receipt.gasSpendUSD}\""
   ]
  },
  {
   "cell_type": "code",
   "execution_count": 16,
   "metadata": {},
   "outputs": [
    {
     "data": {
      "text/plain": [
       "'New Shares Amount: 8.599732233561554'"
      ]
     },
     "execution_count": 16,
     "metadata": {},
     "output_type": "execute_result"
    }
   ],
   "source": [
    "f\"New Shares Amount: {position.shares()[1]}\""
   ]
  },
  {
   "cell_type": "markdown",
   "metadata": {},
   "source": [
    "### Withdraw 2 Shares from the Position (Using the 'Convert All' strategy):\n",
    "\n",
    "* Since we are using the 'Convert All' strategy, we need to specify the percentage of tokens returned that should be the stable token\n",
    "\n",
    "   In this case, we will use 1.0 (100%) to return all owed tokens in the stable token."
   ]
  },
  {
   "cell_type": "code",
   "execution_count": 12,
   "metadata": {},
   "outputs": [
    {
     "data": {
      "text/plain": [
       "2000000000000000000"
      ]
     },
     "execution_count": 12,
     "metadata": {},
     "output_type": "execute_result"
    }
   ],
   "source": [
    "# Must supply the shares in integer value:\n",
    "shares = position.to_wei(2, position.bep20_vault_token.decimals())\n",
    "shares"
   ]
  },
  {
   "cell_type": "code",
   "execution_count": 17,
   "metadata": {},
   "outputs": [
    {
     "name": "stdout",
     "output_type": "stream",
     "text": [
      "{'value': 0, 'gas': 5334790, 'from': '0xC9E6e248928aC18eD6b103653cBcF66d23B743C6', 'chainId': 56, 'gasPrice': 5000000000, 'nonce': 18, 'to': '0x0256E784f73391797f80a9902c0fD05a718a812a', 'data': '0xe116d2020000000000000000000000000000000000000000000000001bc16d674ec80000000000000000000000000000000000000000000000000000000000000000000000000000000000000000000000000000000000000000000000000000000000000000000000000000000000000000000000000000000000000000000000000000000000000000000000000000000000000000000000000000000000000000000000000000000000000000000000000000000000000000000000000000000000e00000000000000000000000000000000000000000000000000000000000002710000000000000000000000000000000000000000000000000000000000000004000000000000000000000000000000000000000000000000000000000000000190000000000000000000000000000000000000000000000000000000000000001'}\n"
     ]
    },
    {
     "data": {
      "text/plain": [
       "TransactionReceipt(transactionHash=HexBytes('0x568a271e078cb47f8310ad67d7d4924d12aa2f25541267bec00ccb45f0bda08a'), blockHash=HexBytes('0xfaf6c7eb0ec068ab0ea16787a66a2ecdbe3c609d33de18f5290e48392dfbd132'), blockNumber=19784754, contractAddress=None, cumulativeGasUsed=8573473, gasSpendUSD=6.960145252238839, fromAddress='0xC9E6e248928aC18eD6b103653cBcF66d23B743C6', toAddress='0x0256E784f73391797f80a9902c0fD05a718a812a', status=1, transactionIndex=39, type='0x0', effectiveGasPrice=None)"
      ]
     },
     "execution_count": 17,
     "metadata": {},
     "output_type": "execute_result"
    }
   ],
   "source": [
    "# We don't need to specify a strategy here, since the default strategy is \"Minimize Trading\":\n",
    "txn_receipt = position.do_withdraw(shares, pct_stable=1.0, strategy=\"convert all\")\n",
    "txn_receipt"
   ]
  },
  {
   "cell_type": "code",
   "execution_count": 18,
   "metadata": {},
   "outputs": [
    {
     "data": {
      "text/plain": [
       "'Gas Spend USD: $6.960145252238839'"
      ]
     },
     "execution_count": 18,
     "metadata": {},
     "output_type": "execute_result"
    }
   ],
   "source": [
    "f\"Gas Spend USD: ${txn_receipt.gasSpendUSD}\""
   ]
  },
  {
   "cell_type": "code",
   "execution_count": 19,
   "metadata": {},
   "outputs": [
    {
     "data": {
      "text/plain": [
       "'New Shares Amount: 6.599732233561553'"
      ]
     },
     "execution_count": 19,
     "metadata": {},
     "output_type": "execute_result"
    }
   ],
   "source": [
    "f\"New Shares Amount: {position.shares()[1]}\""
   ]
  }
 ],
 "metadata": {
  "kernelspec": {
   "display_name": "Python 3.9.7 64-bit",
   "language": "python",
   "name": "python3"
  },
  "language_info": {
   "codemirror_mode": {
    "name": "ipython",
    "version": 3
   },
   "file_extension": ".py",
   "mimetype": "text/x-python",
   "name": "python",
   "nbconvert_exporter": "python",
   "pygments_lexer": "ipython3",
   "version": "3.9.7"
  },
  "orig_nbformat": 4,
  "vscode": {
   "interpreter": {
    "hash": "aee8b7b246df8f9039afb4144a1f6fd8d2ca17a180786b69acc140d282b71a49"
   }
  }
 },
 "nbformat": 4,
 "nbformat_minor": 2
}
