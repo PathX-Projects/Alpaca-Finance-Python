{
 "cells": [
  {
   "cell_type": "code",
   "execution_count": 2,
   "metadata": {},
   "outputs": [],
   "source": [
    "\"\"\" IGNORE CELL - Dev Environment setup (Not necessary if you've installed via pip) \"\"\"\n",
    "from os.path import join, dirname, abspath\n",
    "import sys\n",
    "\n",
    "module_path = abspath(join('../..'))\n",
    "if module_path not in sys.path:\n",
    "    sys.path.append(module_path)"
   ]
  },
  {
   "cell_type": "code",
   "execution_count": 3,
   "metadata": {},
   "outputs": [],
   "source": [
    "from dotenv import load_dotenv\n",
    "from os import getenv\n",
    "\n",
    "from alpaca_finance.automated_vault import AutomatedVaultPosition"
   ]
  },
  {
   "cell_type": "code",
   "execution_count": 4,
   "metadata": {},
   "outputs": [],
   "source": [
    "# Variables:\n",
    "load_dotenv()\n",
    "\n",
    "PUBKEY = getenv('PUBLIC_WALLET_ADDRESS', \"<or_hardcode_here>\")\n",
    "PRIVKEY = getenv('PRIVATE_WALLET_KEY', \"<or_hardcode_here>\")\n",
    "assert PUBKEY is not None and PRIVKEY is not None, \"Public and private wallet key required to sign withdraw txn\"\n",
    "\n",
    "POSITION_KEY = \"L3x-BUSDBTCB-PCS2\"  # <-- Replace with your own Automated Vault position key (BTCB Savings (3x) in this case)"
   ]
  },
  {
   "cell_type": "code",
   "execution_count": 5,
   "metadata": {},
   "outputs": [
    {
     "data": {
      "text/plain": [
       "('Long 3x BUSD-BTCB PCS2', 'l3x-busdbtcb-pcs2', 'BUSD', 'L3x-BUSDBTCB-PCS2')"
      ]
     },
     "execution_count": 5,
     "metadata": {},
     "output_type": "execute_result"
    }
   ],
   "source": [
    "# Create a automated vault position instance:\n",
    "position = AutomatedVaultPosition(position_key=POSITION_KEY, owner_wallet_address=PUBKEY, owner_wallet_key=PRIVKEY)\n",
    "\n",
    "position.name, position.key, position.asset_token.symbol(), position.bep20_vault_token.symbol()"
   ]
  },
  {
   "cell_type": "markdown",
   "metadata": {},
   "source": [
    "> **NOTE**: As of v1.1.3, you can now set the `position.auto_token_approval` attribute to `True` to automatically approve tokens.\n",
    "\n",
    "- This will only approve tokens that lack the required allowance for the transaction to be completed."
   ]
  },
  {
   "cell_type": "markdown",
   "metadata": {},
   "source": [
    "## Approve BUSD (asset token) for deposit into vault:"
   ]
  },
  {
   "cell_type": "code",
   "execution_count": 6,
   "metadata": {},
   "outputs": [
    {
     "data": {
      "text/plain": [
       "TransactionReceipt(transactionHash=HexBytes('0x2f5cc88ee899f5f228f3404fc7f1ec40031f48ae3ff819b04f8064b17cc09fc7'), blockHash=HexBytes('0x245bb76a4598519c4f0be47fac9f81341066fd6e4861b59690ed08211cd50fa0'), blockNumber=19786948, contractAddress=None, cumulativeGasUsed=4838197, gasSpendUSD=0.04516627756973671, fromAddress='0xC9E6e248928aC18eD6b103653cBcF66d23B743C6', toAddress='0xe9e7CEA3DedcA5984780Bafc599bD69ADd087D56', status=1, transactionIndex=46, type='0x0', effectiveGasPrice=None)"
      ]
     },
     "execution_count": 6,
     "metadata": {},
     "output_type": "execute_result"
    }
   ],
   "source": [
    "txn_recept = position.do_approve_token(position.asset_token)\n",
    "txn_recept"
   ]
  },
  {
   "cell_type": "code",
   "execution_count": 7,
   "metadata": {},
   "outputs": [
    {
     "data": {
      "text/plain": [
       "'Gas Spend USD: $0.04516627756973671'"
      ]
     },
     "execution_count": 7,
     "metadata": {},
     "output_type": "execute_result"
    }
   ],
   "source": [
    "f\"Gas Spend USD: ${txn_recept.gasSpendUSD}\""
   ]
  },
  {
   "cell_type": "markdown",
   "metadata": {},
   "source": [
    "## Approve vault token (L3x-BUSDBTCB-PCS2) for withdraw from the vault\n",
    "\n",
    "> NOTE: This is only needed if the **\"Convert All\"** strategy is used."
   ]
  },
  {
   "cell_type": "code",
   "execution_count": 6,
   "metadata": {},
   "outputs": [
    {
     "data": {
      "text/plain": [
       "TransactionReceipt(transactionHash=HexBytes('0x48f5dd6535f5a2c92ade75494ee1215e037bc8bef91fa98025390d1f865130ce'), blockHash=HexBytes('0xb909a29e08c35350dd6975fc814cef96408afcb79199178d615e25cf4793b982'), blockNumber=19902313, contractAddress=None, cumulativeGasUsed=4586517, gasSpendUSD=0.04049917075722871, fromAddress='0xC9E6e248928aC18eD6b103653cBcF66d23B743C6', toAddress='0xA1679223b7585725aFb425a6F59737a05e085C40', status=1, transactionIndex=48, type='0x0', effectiveGasPrice=None)"
      ]
     },
     "execution_count": 6,
     "metadata": {},
     "output_type": "execute_result"
    }
   ],
   "source": [
    "txn_receipt = position.do_approve_token(position.bep20_vault_token, _spender=position.gateway.address)\n",
    "txn_receipt"
   ]
  },
  {
   "cell_type": "code",
   "execution_count": 7,
   "metadata": {},
   "outputs": [
    {
     "data": {
      "text/plain": [
       "'Gas Spend USD: $0.04049917075722871'"
      ]
     },
     "execution_count": 7,
     "metadata": {},
     "output_type": "execute_result"
    }
   ],
   "source": [
    "f\"Gas Spend USD: ${txn_receipt.gasSpendUSD}\""
   ]
  }
 ],
 "metadata": {
  "kernelspec": {
   "display_name": "Python 3.9.7 64-bit",
   "language": "python",
   "name": "python3"
  },
  "language_info": {
   "codemirror_mode": {
    "name": "ipython",
    "version": 3
   },
   "file_extension": ".py",
   "mimetype": "text/x-python",
   "name": "python",
   "nbconvert_exporter": "python",
   "pygments_lexer": "ipython3",
   "version": "3.9.7"
  },
  "orig_nbformat": 4,
  "vscode": {
   "interpreter": {
    "hash": "aee8b7b246df8f9039afb4144a1f6fd8d2ca17a180786b69acc140d282b71a49"
   }
  }
 },
 "nbformat": 4,
 "nbformat_minor": 2
}
