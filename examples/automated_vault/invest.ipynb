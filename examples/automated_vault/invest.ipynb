{
 "cells": [
  {
   "cell_type": "code",
   "execution_count": 1,
   "metadata": {},
   "outputs": [],
   "source": [
    "\"\"\" IGNORE CELL - Dev Environment setup (Not necessary if you've installed via pip) \"\"\"\n",
    "from os.path import join, dirname, abspath\n",
    "import sys\n",
    "\n",
    "module_path = abspath(join('../..'))\n",
    "if module_path not in sys.path:\n",
    "    sys.path.append(module_path)"
   ]
  },
  {
   "cell_type": "code",
   "execution_count": 2,
   "metadata": {},
   "outputs": [],
   "source": [
    "from dotenv import load_dotenv\n",
    "from os import getenv\n",
    "\n",
    "from alpaca_finance.automated_vault import AutomatedVaultPosition"
   ]
  },
  {
   "cell_type": "code",
   "execution_count": 3,
   "metadata": {},
   "outputs": [],
   "source": [
    "# Variables:\n",
    "load_dotenv()\n",
    "\n",
    "PUBKEY = getenv('PUBLIC_WALLET_ADDRESS', \"<or_hardcode_here>\")\n",
    "PRIVKEY = getenv('PRIVATE_WALLET_KEY', \"<or_hardcode_here>\")\n",
    "assert PUBKEY is not None and PRIVKEY is not None, \"Public and private wallet key required to sign withdraw txn\"\n",
    "\n",
    "POSITION_KEY = \"L3x-BUSDBTCB-PCS2\"  # <-- Replace with your own Automated Vault position key (BTCB Savings (3x) in this case)"
   ]
  },
  {
   "cell_type": "code",
   "execution_count": 4,
   "metadata": {},
   "outputs": [
    {
     "data": {
      "text/plain": [
       "('Long 3x BUSD-BTCB PCS2', 'l3x-busdbtcb-pcs2', 0.0)"
      ]
     },
     "execution_count": 4,
     "metadata": {},
     "output_type": "execute_result"
    }
   ],
   "source": [
    "# Create a automated vault position instance:\n",
    "position = AutomatedVaultPosition(position_key=POSITION_KEY, owner_wallet_address=PUBKEY, owner_wallet_key=PRIVKEY)\n",
    "\n",
    "position.name, position.key, position.shares()[1]"
   ]
  },
  {
   "cell_type": "markdown",
   "metadata": {},
   "source": [
    "### Invest 10 BUSD (Asset Token) in Automated Vault:"
   ]
  },
  {
   "cell_type": "code",
   "execution_count": 5,
   "metadata": {},
   "outputs": [
    {
     "data": {
      "text/plain": [
       "('Asset Token: BUSD', 'Stable Token: BTCB')"
      ]
     },
     "execution_count": 5,
     "metadata": {},
     "output_type": "execute_result"
    }
   ],
   "source": [
    "f\"Asset Token: {position.asset_token.symbol()}\", f\"Stable Token: {position.stable_token.symbol()}\""
   ]
  },
  {
   "cell_type": "code",
   "execution_count": 6,
   "metadata": {},
   "outputs": [
    {
     "data": {
      "text/plain": [
       "10000000000000000000"
      ]
     },
     "execution_count": 6,
     "metadata": {},
     "output_type": "execute_result"
    }
   ],
   "source": [
    "amt_busd = position.to_wei(10, position.asset_token.decimals())\n",
    "amt_busd"
   ]
  },
  {
   "cell_type": "code",
   "execution_count": 7,
   "metadata": {},
   "outputs": [
    {
     "data": {
      "text/plain": [
       "TransactionReceipt(transactionHash=HexBytes('0x5f65fb43da3febcc0c6c5920e6c19316c71ec2223eab46466672bc7490e99126'), blockHash=HexBytes('0xc1fce8126cbf8910d85096ad380b3cfeb27367a8ea18d77fe620c37731ca7e30'), blockNumber=19786414, contractAddress=None, cumulativeGasUsed=13117900, gasSpendUSD=5.725849432239864, fromAddress='0xC9E6e248928aC18eD6b103653cBcF66d23B743C6', toAddress='0xA1679223b7585725aFb425a6F59737a05e085C40', status=1, transactionIndex=76, type='0x0', effectiveGasPrice=None)"
      ]
     },
     "execution_count": 7,
     "metadata": {},
     "output_type": "execute_result"
    }
   ],
   "source": [
    "txn_receipt = position.do_invest(asset_token_amt=amt_busd)\n",
    "txn_receipt"
   ]
  },
  {
   "cell_type": "code",
   "execution_count": 9,
   "metadata": {},
   "outputs": [
    {
     "data": {
      "text/plain": [
       "'Gas spend USD: 5.725849432239864'"
      ]
     },
     "execution_count": 9,
     "metadata": {},
     "output_type": "execute_result"
    }
   ],
   "source": [
    "f\"Gas spend USD: {txn_receipt.gasSpendUSD}\""
   ]
  },
  {
   "cell_type": "code",
   "execution_count": 13,
   "metadata": {},
   "outputs": [
    {
     "data": {
      "text/plain": [
       "('New Shares: 13.143967577790333', 'New Position Value: $9.982646879376686')"
      ]
     },
     "execution_count": 13,
     "metadata": {},
     "output_type": "execute_result"
    }
   ],
   "source": [
    "f\"New Shares: {position.shares()[1]}\", f\"New Position Value: ${position.shares()[-1]}\""
   ]
  }
 ],
 "metadata": {
  "kernelspec": {
   "display_name": "Python 3.9.7 64-bit",
   "language": "python",
   "name": "python3"
  },
  "language_info": {
   "codemirror_mode": {
    "name": "ipython",
    "version": 3
   },
   "file_extension": ".py",
   "mimetype": "text/x-python",
   "name": "python",
   "nbconvert_exporter": "python",
   "pygments_lexer": "ipython3",
   "version": "3.9.7"
  },
  "orig_nbformat": 4,
  "vscode": {
   "interpreter": {
    "hash": "aee8b7b246df8f9039afb4144a1f6fd8d2ca17a180786b69acc140d282b71a49"
   }
  }
 },
 "nbformat": 4,
 "nbformat_minor": 2
}
