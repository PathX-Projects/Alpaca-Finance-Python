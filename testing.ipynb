{
 "cells": [
  {
   "cell_type": "code",
   "execution_count": 1,
   "id": "4ad7c45e",
   "metadata": {},
   "outputs": [],
   "source": [
    "from alpaca_finance.positions import AutomatedVaultPosition"
   ]
  },
  {
   "cell_type": "code",
   "execution_count": 2,
   "id": "e22a0d41",
   "metadata": {},
   "outputs": [],
   "source": [
    "position = AutomatedVaultPosition(position_key=\"n3x-BNBBUSD-PCS1\",\n",
    "                                  owner_wallet_address=\"0xC9E6e248928aC18eD6b103653cBcF66d23B743C6\")"
   ]
  },
  {
   "cell_type": "code",
   "execution_count": 3,
   "id": "6a255ec4",
   "metadata": {},
   "outputs": [
    {
     "data": {
      "text/plain": [
       "{'position_key': 'n3x-bnbbusd-pcs1',\n",
       " 'position_name': 'Market Neutral 3x BNB-BUSD PCS1',\n",
       " 'position_address': '0x9fe96180ab2adfaebc735336f9213f26bca99aa1',\n",
       " 'entry_price': 976369461359200063}"
      ]
     },
     "execution_count": 3,
     "metadata": {},
     "output_type": "execute_result"
    }
   ],
   "source": [
    "position.__dict__"
   ]
  },
  {
   "cell_type": "code",
   "execution_count": 8,
   "id": "6b7b6677",
   "metadata": {},
   "outputs": [
    {
     "data": {
      "text/plain": [
       "{'key': 'n3x-bnbbusd-pcs1',\n",
       " 'name': 'Market Neutral 3x BNB-BUSD PCS1',\n",
       " 'address': '0x9fE96180AB2ADfaEBc735336f9213F26Bca99aa1',\n",
       " 'aprTradingFeeExcluded': '1.130977866211762165',\n",
       " 'apyTradingFeeExcluded': '1.13738',\n",
       " 'apr': '46.913920571675959165',\n",
       " 'apy': '59.813603',\n",
       " 'tvl': '1742038.422677454144594042',\n",
       " 'tvlIncludingDebt': '5247023.343308059040650207',\n",
       " 'shareTokenPrice': '0.97648946674098787',\n",
       " 'capacity': '25000000.0',\n",
       " 'inceptionDate': '2022-04-07T00:00:00.000Z',\n",
       " 'iuToken': {'address': '0x9fE96180AB2ADfaEBc735336f9213F26Bca99aa1',\n",
       "  'symbol': 'n3x-BNBBUSD-PCS1'},\n",
       " 'workingToken': {'address': '0x58F876857a02D6762E0101bb5C46A8c1ED44Dc16',\n",
       "  'symbol': 'BNB-BUSD PCS LP',\n",
       "  'tokenA': {'address': '0xe9e7cea3dedca5984780bafc599bd69add087d56',\n",
       "   'symbol': 'BUSD'},\n",
       "  'tokenB': {'address': '0xbb4CdB9CBd36B01bD1cBaEBF2De08d9173bc095c',\n",
       "   'symbol': 'BNB'}}}"
      ]
     },
     "execution_count": 8,
     "metadata": {},
     "output_type": "execute_result"
    }
   ],
   "source": [
    "summary = position.get_vault_summary()\n",
    "\n",
    "dict(summary)"
   ]
  },
  {
   "cell_type": "code",
   "execution_count": null,
   "id": "cd4ef740",
   "metadata": {},
   "outputs": [],
   "source": []
  }
 ],
 "metadata": {
  "kernelspec": {
   "display_name": "Python 3",
   "language": "python",
   "name": "python3"
  },
  "language_info": {
   "codemirror_mode": {
    "name": "ipython",
    "version": 3
   },
   "file_extension": ".py",
   "mimetype": "text/x-python",
   "name": "python",
   "nbconvert_exporter": "python",
   "pygments_lexer": "ipython3",
   "version": "3.9.7"
  }
 },
 "nbformat": 4,
 "nbformat_minor": 5
}
